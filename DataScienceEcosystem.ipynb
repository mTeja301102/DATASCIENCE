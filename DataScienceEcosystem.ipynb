{
 "cells": [
  {
   "cell_type": "markdown",
   "id": "9dbff58b",
   "metadata": {},
   "source": [
    "# Data Science Tools and Ecosystem"
   ]
  },
  {
   "cell_type": "markdown",
   "id": "9e297738",
   "metadata": {},
   "source": [
    "## In this Notebook Data science tools and ecosystem are summarised"
   ]
  },
  {
   "cell_type": "markdown",
   "id": "9a8af1c2",
   "metadata": {},
   "source": [
    "**Objectives**\n",
    "\n",
    "- Creating markdown cell with H1 type heading\n",
    "- Popular languages data scientists use\n",
    "- Commonly used libraries used by data scientists\n",
    "- Creating a table\n",
    "- Evaluating arthimetic expressions\n"
   ]
  },
  {
   "cell_type": "markdown",
   "id": "fd575a46",
   "metadata": {},
   "source": [
    "### Some of the popular languages that data scientists use are:\n",
    "1. Python\n",
    "2. R language\n",
    "3. Scala\n",
    "4. Julia\n",
    "5. Java\n",
    "6. C++"
   ]
  },
  {
   "cell_type": "markdown",
   "id": "729c7629",
   "metadata": {},
   "source": [
    "### Some of the commonly used libraries used by data scientists include :\n",
    "1. Pandas - Offers data structures and tools for effective data cleaning, manipulation and analysis\n",
    "2. Numpy - Based on arrays and matrices, allowing you to apply mathematical functions to arrays\n",
    "3. Matplotlib - For Data visualisation\n",
    "4. Seaborn - For Data visualisation\n",
    "5. Scikit-learn - For Machine learning\n",
    "6. Keras - For building deep learning models\n",
    "7. Tensor flow - For deep learning\n",
    "8. pyTorch - For experimentation, making it simple for researchers"
   ]
  },
  {
   "cell_type": "markdown",
   "id": "db55e44c",
   "metadata": {},
   "source": [
    "| Data science tools |\n",
    "| ------------------ |\n",
    "| Jupyter Notebook |\n",
    "| Jupyter Lab |\n",
    "| Apache zeppelin |\n",
    "| Rstudio |\n",
    "| Spyder |\n"
   ]
  },
  {
   "cell_type": "markdown",
   "id": "ed4f7253",
   "metadata": {},
   "source": [
    "### Below are a few examples of evaluating arithmetic expressions in Python"
   ]
  },
  {
   "cell_type": "code",
   "execution_count": 1,
   "id": "ca8e0ea8",
   "metadata": {},
   "outputs": [
    {
     "data": {
      "text/plain": [
       "17"
      ]
     },
     "execution_count": 1,
     "metadata": {},
     "output_type": "execute_result"
    }
   ],
   "source": [
    "#This a simple arithmetic expression to mutiply then add integers\n",
    "(3*4)+5"
   ]
  },
  {
   "cell_type": "code",
   "execution_count": 4,
   "id": "f6115410",
   "metadata": {},
   "outputs": [
    {
     "data": {
      "text/plain": [
       "3.3333333333333335"
      ]
     },
     "execution_count": 4,
     "metadata": {},
     "output_type": "execute_result"
    }
   ],
   "source": [
    "#This will convert 200 minutes to hours by diving by 60\n",
    "200/60"
   ]
  },
  {
   "cell_type": "markdown",
   "id": "ce2b847d",
   "metadata": {},
   "source": [
    "## Author\n",
    "Mani Teja"
   ]
  },
  {
   "cell_type": "code",
   "execution_count": null,
   "id": "578ed399",
   "metadata": {},
   "outputs": [],
   "source": []
  }
 ],
 "metadata": {
  "kernelspec": {
   "display_name": "Python 3 (ipykernel)",
   "language": "python",
   "name": "python3"
  },
  "language_info": {
   "codemirror_mode": {
    "name": "ipython",
    "version": 3
   },
   "file_extension": ".py",
   "mimetype": "text/x-python",
   "name": "python",
   "nbconvert_exporter": "python",
   "pygments_lexer": "ipython3",
   "version": "3.10.9"
  }
 },
 "nbformat": 4,
 "nbformat_minor": 5
}
